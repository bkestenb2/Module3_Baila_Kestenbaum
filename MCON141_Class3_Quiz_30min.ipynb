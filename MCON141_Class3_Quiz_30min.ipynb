{
  "cells": [
    {
      "cell_type": "markdown",
      "metadata": {
        "id": "view-in-github",
        "colab_type": "text"
      },
      "source": [
        "<a href=\"https://colab.research.google.com/github/bkestenb2/Module3_Baila_Kestenbaum/blob/main/MCON141_Class3_Quiz_30min.ipynb\" target=\"_parent\"><img src=\"https://colab.research.google.com/assets/colab-badge.svg\" alt=\"Open In Colab\"/></a>"
      ]
    },
    {
      "cell_type": "markdown",
      "id": "d4f532fd",
      "metadata": {
        "id": "d4f532fd"
      },
      "source": [
        "\n",
        "# MCON 141 — Class 3 **30‑Minute Programming Quiz** (Logic-Heavy)\n",
        "\n",
        "**Focus:** decision structures and boolean logic (`and`, `or`, `not`), nested `if`, `if‑elif‑else`, input validation.  \n",
        "**Explicitly excluded:** functions, `if __name__ == \"__main__\":`\n",
        "\n",
        "**Academic Honesty Attestation**  \n",
        "Because I wanted to give you an exam that allows you to use the Python programming environment, I am not able to place this exam within LockDown Browser. For this reason, I ask you to **attest** that you did not use any support on this exam (no AI assistants, no collaboration, no external code).\n",
        "\n",
        "In the cell below, type exactly:\n",
        "```\n",
        "I attest that I worked alone without outside assistance.\n",
        "```\n"
      ]
    },
    {
      "cell_type": "code",
      "execution_count": 15,
      "id": "2cbce49f",
      "metadata": {
        "id": "2cbce49f"
      },
      "outputs": [],
      "source": [
        "\n",
        "# Type your attestation exactly as requested on a single print line: I attest that I worked alone without outside assistance.\n",
        "# Example:\n",
        "# print(\"I attest that I worked alone without outside assistance.\")\n",
        "#I attest that I worked alone without outside assistance"
      ]
    },
    {
      "cell_type": "markdown",
      "id": "5002e392",
      "metadata": {
        "id": "5002e392"
      },
      "source": [
        "\n",
        "---\n",
        "\n",
        "## IMPORTANT RULES (Read before starting)\n",
        "- **Do not** define functions; write straight-line code in each cell.\n",
        "- For **any invalid input or out-of-range values**, you **must** use `try`, `raise` (when appropriate), and `except`:\n",
        "  - Use `ValueError` for non-numeric inputs or invalid options (e.g., not one of `y/n`, not one of `red/yellow/green`).\n",
        "  - Use `ValueError` when a numeric value is outside the required range.\n",
        "- Normalize option inputs with `.strip().lower()` as specified (this removes extra spaces and puts all words into lowercase letters)\n",
        "- Use clear boolean logic with `and` / `or` / `not` where required.\n",
        "- Keep outputs visible for grading.\n",
        "- This environment is deliberately given to you so that you can debug your code, please use this feature, it is the purpose giving you the exam in this format.\n"
      ]
    },
    {
      "cell_type": "markdown",
      "id": "113c937c",
      "metadata": {
        "id": "113c937c"
      },
      "source": [
        "\n",
        "## 1) Leap year logic (`and`/`or`/`not`) — **with validation**\n",
        "\n",
        "**Prompt**\n",
        "- Ask for **year** (an integer **>= 1**).\n",
        "- A year is a leap year if it is divisible by 4 **and** not divisible by 100, **or** it is divisible by 400.\n",
        "\n",
        "**Requirements**\n",
        "- Validate input:\n",
        "  - If the value is not an integer → handle with `except ValueError`.\n",
        "  - If the integer is **< 1** → `raise ValueError(\"Year must be >= 1.\")` and handle it.\n",
        "- Print exactly `\"Leap year\"` or `\"Not a leap year\"` when valid.\n"
      ]
    },
    {
      "cell_type": "code",
      "id": "d0ca7ece",
      "metadata": {
        "jupyter": {
          "is_executing": true
        },
        "colab": {
          "base_uri": "https://localhost:8080/"
        },
        "id": "d0ca7ece",
        "outputId": "c3cc1847-d92b-48e2-b6bd-9412b45bb0df"
      },
      "source": [
        "\n",
        "# YOUR CODE HEre\n",
        "def leap_year_finder():\n",
        "    try:\n",
        "        year=int(input(\"What year?\"))\n",
        "# Implement: input -> int year, validate (>=1), compute leap, print result.\n",
        "        if year < 1:\n",
        "            print (\"must be an integer greater than one\")\n",
        "            raise ValueError (\"must be an integer greater than one\")\n",
        "        if (year %4 == 0 and year %100 != 0) or year %400 == 0:\n",
        "            print (\"is a leap year\")\n",
        "        else:\n",
        "            print (\"Not a leap year\")\n",
        "    except ValueError:\n",
        "        print (\"invalid input\")\n",
        "leap_year_finder()\n",
        "# Use try/raise/except with ValueError as specified.\n",
        "# Write code below:\n"
      ],
      "outputs": [
        {
          "output_type": "stream",
          "name": "stdout",
          "text": [
            "What year?2025\n",
            "Not a leap year\n"
          ]
        }
      ],
      "execution_count": 3
    },
    {
      "cell_type": "markdown",
      "id": "6c9922fe",
      "metadata": {
        "id": "6c9922fe"
      },
      "source": [
        "\n",
        "## 2) Traffic light + pedestrian button (nested `if`) — **with validation**\n",
        "\n",
        "**Prompt**\n",
        "- Ask for **light** (`\"red\"`, `\"yellow\"`, `\"green\"`) and **button** (`\"y\"`/`\"n\"`). Normalize to lowercase with `.strip().lower()`.\n",
        "\n",
        "**Rules to decide what to print**  \n",
        "- If `light == \"green\"`:\n",
        "  - If `button == \"y\"` → print `\"Walk\"`\n",
        "  - If `button == \"n\"` → print `\"Wait\"`\n",
        "- If `light == \"yellow\"` → print `\"Wait\"` (ignore button)\n",
        "- If `light == \"red\"` → print `\"Don't walk\"` (ignore button)\n",
        "\n",
        "**Requirements**\n",
        "- Validate both inputs:\n",
        "  - If `light` is not one of the three allowed words → `raise ValueError(\"light must be red/yellow/green\")` and handle it.\n",
        "  - If `button` is not `\"y\"` or `\"n\"` → `raise ValueError(\"button must be y/n\")` and handle it.\n",
        "- Use a **nested `if` inside the green branch**.\n"
      ]
    },
    {
      "cell_type": "code",
      "id": "6e43563f",
      "metadata": {
        "jupyter": {
          "is_executing": true
        },
        "colab": {
          "base_uri": "https://localhost:8080/"
        },
        "id": "6e43563f",
        "outputId": "cc9a236b-a002-4491-9ccb-4a27c8013066"
      },
      "source": [
        "\n",
        "# YOUR CODE HERE\n",
        "# Implement: read light, button; validate via try/raise/except (ValueError);\n",
        "# then apply the rules with nested if for green.\n",
        "\n",
        "# Write code below:\n",
        "def traffic_light():\n",
        "    try:\n",
        "        light = input(\"Choose a traffic light color (red, yellow, or green): \").lower().strip()\n",
        "        if light not in (\"red\", \"yellow\", \"green\"):\n",
        "            print (\"light not in red, yellow, or green\")\n",
        "            raise ValueError (\"light not in red, yellow, or green\")\n",
        "        button = input(\"is button 'y' or 'n'? \").lower().strip()\n",
        "        if button not in (\"y\", \"n\"):\n",
        "            print (\"button must be 'y' or 'n'\")\n",
        "            raise ValueError (\"button must be 'y' or 'n'\")\n",
        "    except ValueError:\n",
        "        print (\"Invalid input\")\n",
        "    if light == (\"green\"):\n",
        "        if button == (\"y\"):\n",
        "            print (\"walk\")\n",
        "        else:\n",
        "          print (\"wait\")\n",
        "    elif light == (\"yellow\"):\n",
        "        print (\"wait\")\n",
        "    else:\n",
        "        print (\"don't walk\")\n",
        "traffic_light()"
      ],
      "outputs": [
        {
          "output_type": "stream",
          "name": "stdout",
          "text": [
            "Choose a traffic light color (red, yellow, or green): green\n",
            "is button 'y' or 'n'? n\n",
            "wait\n"
          ]
        }
      ],
      "execution_count": 8
    },
    {
      "cell_type": "markdown",
      "id": "b6838f39",
      "metadata": {
        "id": "b6838f39"
      },
      "source": [
        "\n",
        "## 3) Exam eligibility (`and`/`or`) — **with validation**\n",
        "\n",
        "**Prompt**\n",
        "- Ask for **attendance_percent** (int, range **0–100**), **integrity_flag** (`\"y\"` if there was any integrity issue, otherwise `\"n\"`), and **makeup_request** (`\"y\"`/`\"n\"`). Normalize option inputs.\n",
        "\n",
        "**Eligibility rule**\n",
        "- `\"Eligible\"` if\n",
        "  - `attendance_percent >= 75 and integrity_flag == \"n\"` **or**\n",
        "  - `attendance_percent >= 60 and makeup_request == \"y\" and integrity_flag == \"n\"`  \n",
        "- Otherwise `\"Not eligible\"`.\n",
        "\n",
        "**Requirements**\n",
        "- Validate input:\n",
        "  - Non-integer attendance → handle with `except ValueError`.\n",
        "  - If attendance is **outside 0–100** → `raise ValueError(\"attendance_percent must be between 0 and 100.\")` and handle it.\n",
        "  - If any option is not `y/n` → `raise ValueError(\"expected y/n\")` and handle it.\n"
      ]
    },
    {
      "cell_type": "code",
      "execution_count": 9,
      "id": "1cc5f124",
      "metadata": {
        "colab": {
          "base_uri": "https://localhost:8080/"
        },
        "id": "1cc5f124",
        "outputId": "5e279191-9ca7-4c3c-bb23-112a2b24a0da"
      },
      "outputs": [
        {
          "output_type": "stream",
          "name": "stdout",
          "text": [
            "plaes provide attendance percent: 70\n",
            "was there an integrity issue (y/n)? n\n",
            "Not eligable\n"
          ]
        }
      ],
      "source": [
        "\n",
        "# YOUR CODE HERE\n",
        "# Implement: read and validate inputs; compute eligibility using the rule above; print \"Eligible\" or \"Not eligible\".\n",
        "# Use try/raise/except with ValueError as specified.\n",
        "\n",
        "# Write code below:\n",
        "def exam_eligibility():\n",
        "    try:\n",
        "        attendance_percent = int(input(\"plaes provide attendance percent: \"))\n",
        "        if attendance_percent not in range (100):\n",
        "            print (\"must be in range 0-100\")\n",
        "            raise ValueError (\"must be in range 0-100\")\n",
        "        integrity_flag = input(\"was there an integrity issue (y/n)? \")\n",
        "        if integrity_flag not in (\"y\", \"n\"):\n",
        "            print (\"must be y/n answer\")\n",
        "            raise ValueError (\"must be y/n answer\")\n",
        "    except ValueError:\n",
        "        print (\"invalid input\")\n",
        "    if (attendance_percent >= 75 and integrity_flag == \"n\") or (attendance_percent >= 60 and integrity_flag == \"y\"):\n",
        "        print (\"Eligable\")\n",
        "    else:\n",
        "        print (\"Not eligable\")\n",
        "exam_eligibility()"
      ]
    },
    {
      "cell_type": "markdown",
      "id": "d3f90474",
      "metadata": {
        "id": "d3f90474"
      },
      "source": [
        "\n",
        "## 4) Coupon stacking rules (mutually exclusive conditions) — **with validation**\n",
        "\n",
        "**Prompt**\n",
        "- Ask for **cart_total** (float, **>= 0**), **coupon10** (`\"y\"/\"n\"`), **coupon15** (`\"y\"/\"n\"`). Normalize options.\n",
        "\n",
        "**Rules**\n",
        "- If both coupons are `\"y\"` → print `\"Invalid: cannot stack\"`.\n",
        "- Else if only `coupon15 == \"y\"` **and** `cart_total >= 80` → `\"15% applied\"`.\n",
        "- Else if only `coupon10 == \"y\"` **and** `cart_total >= 50` → `\"10% applied\"`.\n",
        "- Else → `\"No discount\"`.\n",
        "\n",
        "**Requirements**\n",
        "- Validate input:\n",
        "  - Non-numeric total → handle with `except ValueError`.\n",
        "  - If `cart_total < 0` → `raise ValueError(\"cart_total must be >= 0.\")` and handle it.\n",
        "  - If any coupon option not `y/n` → `raise ValueError(\"expected y/n\")` and handle it.\n"
      ]
    },
    {
      "cell_type": "code",
      "id": "75e8c4e6",
      "metadata": {
        "jupyter": {
          "is_executing": true
        },
        "colab": {
          "base_uri": "https://localhost:8080/"
        },
        "id": "75e8c4e6",
        "outputId": "4e03fea0-d38a-4c6d-fef5-5211f18100ea"
      },
      "source": [
        "\n",
        "# YOUR CODE HERE\n",
        "# Implement: read/validate; apply rules; print exactly one of the specified outputs.\n",
        "# Use try/raise/except with ValueError as specified.\n",
        "\n",
        "# Write code below:\n",
        "def coupon():\n",
        "    try:\n",
        "        cart_total = float(input(\"what is cart total? \"))\n",
        "        if cart_total < 0:\n",
        "            print (\"has to be value greater than 0\")\n",
        "            raise ValueError (\"has to be value greater than 0\")\n",
        "        coupon10 = input(\"do you have a 10% coupon(y/n)? \").lower().strip()\n",
        "        coupon15 = input(\"do you have a 15% coupon(y/n)? \").lower().strip()\n",
        "        if coupon10 not in (\"y\", \"n\") or coupon15 not in (\"y\", \"n\"):\n",
        "            print (\"must be y/n\")\n",
        "            raise ValueError (\"must be in y/n\")\n",
        "    except ValueError:\n",
        "        print (\"invlaid input\")\n",
        "    if coupon10 == \"y\" and coupon15 == \"y\":\n",
        "        print (\"invalid, cannot stack\")\n",
        "    elif coupon15 == \"y\" and cart_total >=80:\n",
        "        print (\"15% applied\")\n",
        "    elif coupon10 == \"y\" and cart_total >= 50:\n",
        "        print (\"10% applied\")\n",
        "    else:\n",
        "        print (\"no discount\")\n",
        "coupon()\n",
        "\n",
        "\n"
      ],
      "outputs": [
        {
          "output_type": "stream",
          "name": "stdout",
          "text": [
            "what is cart total? 89\n",
            "do you have a 10% coupon(y/n)? y\n",
            "do you have a 15% coupon(y/n)? n\n",
            "10% applied\n"
          ]
        }
      ],
      "execution_count": 11
    },
    {
      "cell_type": "markdown",
      "id": "6862f2be",
      "metadata": {
        "id": "6862f2be"
      },
      "source": [
        "\n",
        "## 5) ID policy — De Morgan practice (`or` and `not`) — **with validation**\n",
        "\n",
        "**Prompt**\n",
        "- Ask for **has_photo_id** (`\"y\"/\"n\"`) and **has_student_card** (`\"y\"/\"n\"`). Normalize options.\n",
        "\n",
        "**Rule**\n",
        "- Entry is permitted if the person has **photo ID** **or** has a **student card**.\n",
        "\n",
        "**Requirements**\n",
        "- Validate inputs:\n",
        "  - If either input is not `y/n` → `raise ValueError(\"expected y/n\")` and handle it.\n",
        "- Implement **two checks** (print both results on separate lines):\n",
        "  1) Using `or` directly (`\"Entry permitted\"` / `\"Entry denied\"`).  \n",
        "  2) Using `not` with De Morgan’s law to express the same rule.\n",
        "- Both lines of output should match.\n"
      ]
    },
    {
      "cell_type": "code",
      "execution_count": 14,
      "id": "54e0b13e",
      "metadata": {
        "colab": {
          "base_uri": "https://localhost:8080/"
        },
        "id": "54e0b13e",
        "outputId": "95c20404-0c86-4c9a-d46f-54fddc47e904"
      },
      "outputs": [
        {
          "output_type": "stream",
          "name": "stdout",
          "text": [
            "do you have a photo id(y/n)? n\n",
            "do you have a student card(y/n)? y\n",
            "entry permitted\n"
          ]
        }
      ],
      "source": [
        "\n",
        "# YOUR CODE HERE\n",
        "# Implement: read/validate; print result twice:\n",
        "# (1) direct OR version; (2) logically equivalent NOT/De Morgan version.\n",
        "# Use try/raise/except with ValueError as specified.\n",
        "\n",
        "# Write code below:\n",
        "def id_policy():\n",
        "    try:\n",
        "        has_photo_id = input(\"do you have a photo id(y/n)? \").lower().strip()\n",
        "        if has_photo_id not in (\"y\", \"n\"):\n",
        "            print (\"must be y/n\")\n",
        "            raise ValueError (\"must be y/n\")\n",
        "        has_student_card = input(\"do you have a student card(y/n)? \").lower().strip()\n",
        "        if has_student_card not in (\"y\", \"n\"):\n",
        "            print (\"must be in y/n\")\n",
        "            raise ValueError (\"must be in y/n\")\n",
        "    except ValueError:\n",
        "        print(\"invalid input\")\n",
        "    if has_photo_id == \"y\" or has_student_card == \"y\":\n",
        "        print (\"entry permitted\")\n",
        "    if not has_photo_id == \"y\" and not has_student_card == \"y\":\n",
        "        print (\"entry denied\")\n",
        "id_policy()\n"
      ]
    },
    {
      "cell_type": "markdown",
      "id": "04442209",
      "metadata": {
        "id": "04442209"
      },
      "source": [
        "\n",
        "---\n",
        "\n",
        "### Submission Notes\n",
        "- Leave all outputs visible.\n",
        "- If you re-run a cell, it will re-prompt; that's fine.\n",
        "- Make sure your error messages match the prompts where specified.\n"
      ]
    }
  ],
  "metadata": {
    "kernelspec": {
      "display_name": "Python 3",
      "language": "python",
      "name": "python3"
    },
    "language_info": {
      "name": "python",
      "version": "3.x"
    },
    "colab": {
      "provenance": [],
      "include_colab_link": true
    }
  },
  "nbformat": 4,
  "nbformat_minor": 5
}